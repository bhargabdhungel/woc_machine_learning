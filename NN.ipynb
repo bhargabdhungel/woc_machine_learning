{
  "nbformat": 4,
  "nbformat_minor": 0,
  "metadata": {
    "colab": {
      "name": "NN",
      "provenance": [],
      "collapsed_sections": [],
      "authorship_tag": "ABX9TyNSnveYomqd/Fi5lmEhmHz1",
      "include_colab_link": true
    },
    "kernelspec": {
      "name": "python3",
      "display_name": "Python 3"
    },
    "language_info": {
      "name": "python"
    }
  },
  "cells": [
    {
      "cell_type": "markdown",
      "metadata": {
        "id": "view-in-github",
        "colab_type": "text"
      },
      "source": [
        "<a href=\"https://colab.research.google.com/github/bhargabdhungel/woc_machine_learning/blob/main/NN.ipynb\" target=\"_parent\"><img src=\"https://colab.research.google.com/assets/colab-badge.svg\" alt=\"Open In Colab\"/></a>"
      ]
    },
    {
      "cell_type": "code",
      "source": [
        "import pandas as pd\n",
        "import numpy as np\n",
        "import matplotlib.pyplot as plt\n",
        "import random\n",
        "import math\n",
        "from google.colab import drive\n",
        "drive.mount('/content/drive')"
      ],
      "metadata": {
        "id": "eibKjLzGDSoX",
        "colab": {
          "base_uri": "https://localhost:8080/"
        },
        "outputId": "bff61109-ceb7-4807-9be5-dd2d46c096b0"
      },
      "execution_count": 398,
      "outputs": [
        {
          "output_type": "stream",
          "name": "stdout",
          "text": [
            "Drive already mounted at /content/drive; to attempt to forcibly remount, call drive.mount(\"/content/drive\", force_remount=True).\n"
          ]
        }
      ]
    },
    {
      "cell_type": "code",
      "source": [
        "# importing from drive\n",
        "raw_training_data = pd.read_csv('/content/drive/MyDrive/woc/logistic_reg_data/emnist-letters-train.csv')\n",
        "raw_testing_data = pd.read_csv('/content/drive/MyDrive/woc/logistic_reg_data/emnist-letters-test.csv')\n",
        "training_data=raw_training_data.to_numpy()\n",
        "testing_data=raw_testing_data.to_numpy()"
      ],
      "metadata": {
        "id": "KBua4GPHCq4W"
      },
      "execution_count": 399,
      "outputs": []
    },
    {
      "cell_type": "code",
      "source": [
        "m=5000\n",
        "testing_sample=len(testing_data)\n",
        "alph=30\n",
        "iter=5\n",
        "grp_size=20\n",
        "layers=[784,120,26]"
      ],
      "metadata": {
        "id": "Y9ikj8M9DW7y"
      },
      "execution_count": 400,
      "outputs": []
    },
    {
      "cell_type": "code",
      "source": [
        "# traing data\n",
        "x=training_data[:m,1:].T/255\n",
        "y_=training_data[:m,0]-1\n",
        "y=np.zeros((1,26))\n",
        "for i in y_:\n",
        "  t=np.zeros((26,))\n",
        "  t[i.astype(int)]=1\n",
        "  y=np.vstack((y,t))\n",
        "y=y[1:,:].T"
      ],
      "metadata": {
        "id": "15fmH3gjDiI4"
      },
      "execution_count": 401,
      "outputs": []
    },
    {
      "cell_type": "code",
      "source": [
        "# testing data \n",
        "test_random = random.sample(range(0, testing_sample),testing_sample)\n",
        "test_x=testing_data[:,1:].T/255\n",
        "test_y_=testing_data[:,0]-1\n",
        "test_y=np.zeros((1,26))\n",
        "for i in test_y_:\n",
        "  t=np.zeros((26,))\n",
        "  t[i.astype(int)]=1\n",
        "  test_y=np.vstack((test_y,t))\n",
        "test_y=test_y[1:,:].T"
      ],
      "metadata": {
        "id": "9USf_Xy8D2IQ"
      },
      "execution_count": 402,
      "outputs": []
    },
    {
      "cell_type": "code",
      "source": [
        "biases = [np.random.randn(i,1) for i in layers[1:]]\n",
        "weights = [np.random.randn(j, i) for i,j in zip(layers[:-1], layers[1:])]"
      ],
      "metadata": {
        "id": "SreEEAgJnnzL"
      },
      "execution_count": 403,
      "outputs": []
    },
    {
      "cell_type": "code",
      "source": [
        "def cost_dvt(x,y):\n",
        "  return x-y"
      ],
      "metadata": {
        "id": "Punw3zjxCe20"
      },
      "execution_count": 404,
      "outputs": []
    },
    {
      "cell_type": "code",
      "source": [
        "def sg(x):\n",
        "    return 1.0/(1.0+np.exp(-x))"
      ],
      "metadata": {
        "id": "jtgP9S3fD5bG"
      },
      "execution_count": 405,
      "outputs": []
    },
    {
      "cell_type": "code",
      "source": [
        "def sg_dvt(x):\n",
        "  return sg(x)*(1-sg(x))"
      ],
      "metadata": {
        "id": "LR4SweSRC254"
      },
      "execution_count": 406,
      "outputs": []
    },
    {
      "cell_type": "code",
      "source": [
        "def cost():\n",
        "  pred=forward_prop(x)\n",
        "  d=pred-y\n",
        "  d=d**2\n",
        "  return np.sum(d)"
      ],
      "metadata": {
        "id": "o6G9JXwYqYcR"
      },
      "execution_count": 407,
      "outputs": []
    },
    {
      "cell_type": "code",
      "source": [
        "def forward_prop(a):\n",
        "  for b, w in zip(biases,weights):\n",
        "    a = sg(w@a+b)\n",
        "  return a"
      ],
      "metadata": {
        "id": "pf1oknPKvYnY"
      },
      "execution_count": 408,
      "outputs": []
    },
    {
      "cell_type": "code",
      "source": [
        "def backward_prop(xt, y_):\n",
        "  small_grp_b = [np.zeros(b.shape) for b in biases]\n",
        "  small_grp_w = [np.zeros(w.shape) for w in weights]\n",
        "  act = xt\n",
        "  acts = [xt]\n",
        "  zs = []\n",
        "  for b, w in zip(biases,weights):\n",
        "    z = np.dot(w,act)+b\n",
        "    zs.append(z)\n",
        "    act = sg(z)\n",
        "    acts.append(act)\n",
        "  d = cost_dvt(acts[-1], y_)\n",
        "  sg_dvt(zs[-1])\n",
        "  small_grp_b[-1] = d\n",
        "  small_grp_w[-1] = d@acts[-2].T\n",
        "\n",
        "  for i in range(2,3):\n",
        "    z = zs[-i]\n",
        "    sp = sg_dvt(z)\n",
        "    d = (weights[-i+1].T@d) * sp\n",
        "    small_grp_b[-i] = d\n",
        "    small_grp_w[-i] = d@acts[-i-1].T\n",
        "  return (small_grp_b,small_grp_w)"
      ],
      "metadata": {
        "id": "KOozVWVMzAkY"
      },
      "execution_count": 409,
      "outputs": []
    },
    {
      "cell_type": "code",
      "source": [
        "def acc(a,b):\n",
        "  pred=forward_prop(a)\n",
        "  pred=np.argmax(pred,axis=0)\n",
        "  d=pred-b\n",
        "  return (1-(np.count_nonzero(d)/len(d)))*100"
      ],
      "metadata": {
        "id": "W7wuKCwb3zUt"
      },
      "execution_count": 410,
      "outputs": []
    },
    {
      "cell_type": "code",
      "source": [
        "plotit=[]\n",
        "for j in range(iter):\n",
        "  mini_groups = [x[:,k:k+grp_size] for k in range(0, m,grp_size)]\n",
        "  mini_groups_y = [y[:,k:k+grp_size] for k in range(0, m, grp_size)]\n",
        "  for mini_group,mini_group_y in zip(mini_groups,mini_groups_y):\n",
        "    plotit.append(cost())\n",
        "    small_grp_b = [np.zeros(b.shape) for b in biases]\n",
        "    small_grp_w = [np.zeros(w.shape) for w in weights]\n",
        "    for i in range(len(mini_group[0])):\n",
        "      d_small_grp_b, d_small_grp_w = backward_prop(mini_group[:,i].reshape(784,1),mini_group_y[:,i].reshape(26,1))\n",
        "      small_grp_b = [nb+dnb for nb, dnb in zip(small_grp_b, d_small_grp_b)]\n",
        "      small_grp_w = [nw+dnw for nw, dnw in zip(small_grp_w, d_small_grp_w)]\n",
        "    weights = [w-(alph/len(mini_group))*nw for w, nw in zip(weights,small_grp_w)]\n",
        "    biases = [b-(alph/len(mini_group))*nb for b, nb in zip(biases,small_grp_b)]"
      ],
      "metadata": {
        "id": "gvvcNvECwrqE"
      },
      "execution_count": 411,
      "outputs": []
    },
    {
      "cell_type": "code",
      "source": [
        "plt.plot(plotit)"
      ],
      "metadata": {
        "colab": {
          "base_uri": "https://localhost:8080/",
          "height": 283
        },
        "id": "X0I9zA7npeRH",
        "outputId": "fdfa63c2-4a99-4077-8644-afca5adb8fb3"
      },
      "execution_count": 412,
      "outputs": [
        {
          "output_type": "execute_result",
          "data": {
            "text/plain": [
              "[<matplotlib.lines.Line2D at 0x7f80cf6b8e50>]"
            ]
          },
          "metadata": {},
          "execution_count": 412
        },
        {
          "output_type": "display_data",
          "data": {
            "text/plain": [
              "<Figure size 432x288 with 1 Axes>"
            ],
            "image/png": "[encoded data removed]"
          },
          "metadata": {
            "needs_background": "light"
          }
        }
      ]
    },
    {
      "cell_type": "code",
      "source": [
        "acc(x,y_)"
      ],
      "metadata": {
        "colab": {
          "base_uri": "https://localhost:8080/"
        },
        "id": "_EUiSe8h3vGY",
        "outputId": "ed79df73-3c8f-4392-f09c-e05e2e7be950"
      },
      "execution_count": 413,
      "outputs": [
        {
          "output_type": "execute_result",
          "data": {
            "text/plain": [
              "75.56"
            ]
          },
          "metadata": {},
          "execution_count": 413
        }
      ]
    },
    {
      "cell_type": "code",
      "source": [
        "acc(test_x,test_y_)"
      ],
      "metadata": {
        "colab": {
          "base_uri": "https://localhost:8080/"
        },
        "id": "hiMBBjB0x6MG",
        "outputId": "b6160085-abe0-4807-af10-83c6b138f7be"
      },
      "execution_count": 414,
      "outputs": [
        {
          "output_type": "execute_result",
          "data": {
            "text/plain": [
              "58.835056422731256"
            ]
          },
          "metadata": {},
          "execution_count": 414
        }
      ]
    }
  ]
}