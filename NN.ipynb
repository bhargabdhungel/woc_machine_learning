{
  "nbformat": 4,
  "nbformat_minor": 0,
  "metadata": {
    "colab": {
      "name": "NN",
      "provenance": [],
      "authorship_tag": "ABX9TyM0cd66RIyKn/xXfiyBb3An",
      "include_colab_link": true
    },
    "kernelspec": {
      "name": "python3",
      "display_name": "Python 3"
    },
    "language_info": {
      "name": "python"
    }
  },
  "cells": [
    {
      "cell_type": "markdown",
      "metadata": {
        "id": "view-in-github",
        "colab_type": "text"
      },
      "source": [
        "<a href=\"https://colab.research.google.com/github/bhargabdhungel/woc_machine_learning/blob/main/NN.ipynb\" target=\"_parent\"><img src=\"https://colab.research.google.com/assets/colab-badge.svg\" alt=\"Open In Colab\"/></a>"
      ]
    },
    {
      "cell_type": "code",
      "source": [
        "import pandas as pd\n",
        "import numpy as np\n",
        "import matplotlib.pyplot as plt\n",
        "import random\n",
        "from google.colab import drive\n",
        "drive.mount('/content/drive')"
      ],
      "metadata": {
        "id": "eibKjLzGDSoX",
        "colab": {
          "base_uri": "https://localhost:8080/"
        },
        "outputId": "6623ae39-2a15-41f6-e803-aaef774e78ea"
      },
      "execution_count": null,
      "outputs": [
        {
          "output_type": "stream",
          "name": "stdout",
          "text": [
            "Drive already mounted at /content/drive; to attempt to forcibly remount, call drive.mount(\"/content/drive\", force_remount=True).\n"
          ]
        }
      ]
    },
    {
      "cell_type": "code",
      "source": [
        "# importing from drive\n",
        "raw_training_data = pd.read_csv('/content/drive/MyDrive/woc/logistic_reg_data/emnist-letters-train.csv')\n",
        "raw_testing_data = pd.read_csv('/content/drive/MyDrive/woc/logistic_reg_data/emnist-letters-test.csv')\n",
        "training_data=raw_training_data.to_numpy()\n",
        "testing_data=raw_testing_data.to_numpy()"
      ],
      "metadata": {
        "id": "KBua4GPHCq4W"
      },
      "execution_count": null,
      "outputs": []
    },
    {
      "cell_type": "code",
      "source": [
        "m=1000\n",
        "testing_sample=500"
      ],
      "metadata": {
        "id": "Y9ikj8M9DW7y"
      },
      "execution_count": null,
      "outputs": []
    },
    {
      "cell_type": "code",
      "source": [
        "input_layer=784\n",
        "hidden_layer=300\n",
        "output_layer=26"
      ],
      "metadata": {
        "id": "ISNm5ZMOlXBp"
      },
      "execution_count": null,
      "outputs": []
    },
    {
      "cell_type": "code",
      "source": [
        "def g(x):\n",
        "  if x.all():\n",
        "    return 1/(1+np.exp(-x))\n",
        "  else:\n",
        "    return 1- 1/(1+np.exp(x)) "
      ],
      "metadata": {
        "id": "7_hGsjWJHUR0"
      },
      "execution_count": null,
      "outputs": []
    },
    {
      "cell_type": "code",
      "source": [
        "def dvt(t):\n",
        "  return t*(1-t)"
      ],
      "metadata": {
        "id": "41t2LgUeUhDW"
      },
      "execution_count": null,
      "outputs": []
    },
    {
      "cell_type": "code",
      "source": [
        "# traing data\n",
        "x=training_data[:m,1:]\n",
        "x=(x-np.mean(x,axis=0))/255\n",
        "y_=training_data[:m,0]-1\n",
        "y=np.zeros((1,26))\n",
        "for i in y_:\n",
        "  t=np.zeros((26,))\n",
        "  t[i.astype(int)]=1\n",
        "  y=np.vstack((y,t))\n",
        "y=y[1:,:]"
      ],
      "metadata": {
        "id": "15fmH3gjDiI4"
      },
      "execution_count": null,
      "outputs": []
    },
    {
      "cell_type": "code",
      "source": [
        "# testing data \n",
        "test_random = random.sample(range(0, testing_sample),testing_sample)\n",
        "test_x=testing_data[:,1:]\n",
        "test_x=(test_x-np.mean(test_x,axis=0))/255\n",
        "test_y=testing_data[:,0]"
      ],
      "metadata": {
        "id": "9USf_Xy8D2IQ"
      },
      "execution_count": null,
      "outputs": []
    },
    {
      "cell_type": "code",
      "source": [
        "a0=x"
      ],
      "metadata": {
        "id": "ZBNMHix3WyZ8"
      },
      "execution_count": null,
      "outputs": []
    },
    {
      "cell_type": "code",
      "source": [
        "w1 = np.random.random((input_layer,hidden_layer))\n",
        "b1=np.ones((m,hidden_layer))\n",
        "z1=(a0@w1)\n",
        "a1=z1+b1"
      ],
      "metadata": {
        "id": "zKcU0NmcYZxu"
      },
      "execution_count": null,
      "outputs": []
    },
    {
      "cell_type": "code",
      "source": [
        "z1=a0@w1\n",
        "b1=np.ones((m,1))\n",
        "z1=np.hstack((b1,z1))\n",
        "a1=g(z1)"
      ],
      "metadata": {
        "id": "ZKRRJAjqW3fn"
      },
      "execution_count": null,
      "outputs": []
    },
    {
      "cell_type": "code",
      "source": [
        "z2=a1@w2\n",
        "b2=np.ones((m,1))\n",
        "z2=np.hstack((np.ones((m,1)),z2))\n",
        "a2=g(z2)"
      ],
      "metadata": {
        "id": "NLbv9e5GlS9Y"
      },
      "execution_count": null,
      "outputs": []
    },
    {
      "cell_type": "code",
      "source": [
        "iter=100"
      ],
      "metadata": {
        "id": "MySwXYbZpXEI"
      },
      "execution_count": null,
      "outputs": []
    },
    {
      "cell_type": "code",
      "source": [
        "alph=0.002"
      ],
      "metadata": {
        "id": "nNRZg04IparW"
      },
      "execution_count": null,
      "outputs": []
    },
    {
      "cell_type": "code",
      "source": [
        "d_a2.shape"
      ],
      "metadata": {
        "id": "D8ojYt1F_5BA"
      },
      "execution_count": null,
      "outputs": []
    },
    {
      "cell_type": "code",
      "source": [
        "d_w2=(d_a2@w2.T)/m"
      ],
      "metadata": {
        "id": "Ei9NBgn59B8X"
      },
      "execution_count": null,
      "outputs": []
    },
    {
      "cell_type": "code",
      "source": [
        "d_b2=np.sum(d_a2,axis=1)/m"
      ],
      "metadata": {
        "id": "3n4xARjU9Q54"
      },
      "execution_count": null,
      "outputs": []
    },
    {
      "cell_type": "code",
      "source": [
        "t=a1@w2\n",
        "t=np.hstack((np.ones((m,1)),z2))\n",
        "d_a1=(w2.T@d_a2)*(t*(1-t))"
      ],
      "metadata": {
        "id": "S_BuLLrE-CEt"
      },
      "execution_count": null,
      "outputs": []
    },
    {
      "cell_type": "code",
      "source": [
        "d_w1=(d_a1@w1.T)/m"
      ],
      "metadata": {
        "id": "jTEDrEWo-pax"
      },
      "execution_count": null,
      "outputs": []
    },
    {
      "cell_type": "code",
      "source": [
        "d_b1=np.sum(d_a1,axis=1)/m"
      ],
      "metadata": {
        "id": "GLnLF7H5_HQ2"
      },
      "execution_count": null,
      "outputs": []
    },
    {
      "cell_type": "code",
      "source": [
        "# still trying could not complete this on time "
      ],
      "metadata": {
        "id": "a2Zt09lJgd4h"
      },
      "execution_count": null,
      "outputs": []
    }
  ]
}