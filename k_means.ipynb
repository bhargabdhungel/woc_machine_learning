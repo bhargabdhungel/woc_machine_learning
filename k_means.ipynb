{
  "cells": [
    {
      "cell_type": "markdown",
      "metadata": {
        "id": "view-in-github",
        "colab_type": "text"
      },
      "source": [
        "<a href=\"https://colab.research.google.com/github/bhargabdhungel/woc_machine_learning/blob/main/k_means.ipynb\" target=\"_parent\"><img src=\"https://colab.research.google.com/assets/colab-badge.svg\" alt=\"Open In Colab\"/></a>"
      ]
    },
    {
      "cell_type": "code",
      "execution_count": 9,
      "metadata": {
        "id": "QhmvA_WaXpSv",
        "colab": {
          "base_uri": "https://localhost:8080/"
        },
        "outputId": "810436ac-7450-4501-a8e7-5de0af00f573"
      },
      "outputs": [
        {
          "output_type": "stream",
          "name": "stdout",
          "text": [
            "Drive already mounted at /content/drive; to attempt to forcibly remount, call drive.mount(\"/content/drive\", force_remount=True).\n"
          ]
        }
      ],
      "source": [
        "import pandas as pd\n",
        "import numpy as np\n",
        "import matplotlib.pyplot as plt\n",
        "import random\n",
        "from google.colab import drive\n",
        "drive.mount('/content/drive')"
      ]
    },
    {
      "cell_type": "code",
      "execution_count": 10,
      "metadata": {
        "id": "Wrww4c3cX9aq"
      },
      "outputs": [],
      "source": [
        "# importing from drive\n",
        "raw_training_data = pd.read_csv('/content/drive/MyDrive/woc/logistic_reg_data/emnist-letters-train.csv')\n",
        "raw_testing_data = pd.read_csv('/content/drive/MyDrive/woc/logistic_reg_data/emnist-letters-test.csv')\n",
        "training_data=raw_training_data.to_numpy()\n",
        "testing_data=raw_testing_data.to_numpy()"
      ]
    },
    {
      "cell_type": "code",
      "execution_count": 11,
      "metadata": {
        "id": "N8VLEEwWX_VL"
      },
      "outputs": [],
      "source": [
        "m=10000\n",
        "n=len(testing_data)\n",
        "k=50\n",
        "iter=80"
      ]
    },
    {
      "cell_type": "code",
      "execution_count": 12,
      "metadata": {
        "id": "qNdCzjQ2YIVn"
      },
      "outputs": [],
      "source": [
        "# traing data\n",
        "x=training_data[:m,1:]\n",
        "x=(x-np.mean(x,axis=0))/255\n",
        "y=training_data[:m,0]"
      ]
    },
    {
      "cell_type": "code",
      "execution_count": 13,
      "metadata": {
        "id": "VR4T4P60YLhO"
      },
      "outputs": [],
      "source": [
        "# testing data \n",
        "test_random = random.sample(range(0, n),n)\n",
        "test_x=testing_data[:,1:]\n",
        "test_x=(test_x-np.mean(test_x,axis=0))/255\n",
        "test_y=testing_data[:,0]"
      ]
    },
    {
      "cell_type": "code",
      "execution_count": 14,
      "metadata": {
        "id": "sA6jsXj5Ug31"
      },
      "outputs": [],
      "source": [
        "def update_the_centroid(c,x):\n",
        "  dic=dict.fromkeys(np.arange(0,k),c)\n",
        "  for j in x:\n",
        "    d=c-j\n",
        "    distance= np.sqrt(np.sum(d**2,axis=1))\n",
        "    nearest_centroid=np.argmin(distance)\n",
        "    dic[nearest_centroid]=np.vstack((dic[nearest_centroid],j))\n",
        "  cd=[]\n",
        "  for i in range(k):\n",
        "    cd.append(np.mean(dic[i][1:,:],axis=0))\n",
        "  return np.array(cd)"
      ]
    },
    {
      "cell_type": "code",
      "execution_count": 15,
      "metadata": {
        "id": "jeIXZdQxZKCU"
      },
      "outputs": [],
      "source": [
        "# chosing a random centroid and updating\n",
        "train_random_centroid=np.random.randint(0,len(x),k)\n",
        "centroid=x[train_random_centroid,:]\n",
        "for i in range(iter):\n",
        "  centroid=update_the_centroid(centroid,x)"
      ]
    },
    {
      "cell_type": "code",
      "execution_count": 16,
      "metadata": {
        "id": "o184Fge17Vpt"
      },
      "outputs": [],
      "source": [
        "# finding dominant_y_val_of_centroid\n",
        "dominant_y_val_of_centroid=[]\n",
        "y_vals=dict.fromkeys(np.arange(0,k),[100])\n",
        "index=0\n",
        "for j in x:\n",
        "    d=centroid-j\n",
        "    distance= np.sqrt(np.sum(d**2,axis=1))\n",
        "    nearest_centroid=np.argmin(distance)\n",
        "    y_vals[nearest_centroid]=np.hstack((y_vals[nearest_centroid],y[index].astype(int)))\n",
        "    index+=1\n",
        "for i in range(k):\n",
        "  dominant_y_val_of_centroid.append(np.bincount(y_vals[i]).argmax())"
      ]
    },
    {
      "cell_type": "code",
      "execution_count": 17,
      "metadata": {
        "id": "32hpw0IH05PT",
        "colab": {
          "base_uri": "https://localhost:8080/"
        },
        "outputId": "73ba9381-a82b-4b1c-8ad4-740822efb815"
      },
      "outputs": [
        {
          "output_type": "execute_result",
          "data": {
            "text/plain": [
              "42.185282789377666"
            ]
          },
          "metadata": {},
          "execution_count": 17
        }
      ],
      "source": [
        "# prediction\n",
        "prediction=[]\n",
        "for j in test_x:\n",
        "  d=centroid-j\n",
        "  distance= np.sqrt(np.sum(d**2,axis=1))\n",
        "  index_of_nearest_centroid=np.argmin(distance)\n",
        "  prediction.append(dominant_y_val_of_centroid[index_of_nearest_centroid])\n",
        "prediction=np.array(prediction)\n",
        "d=prediction-test_y\n",
        "(1-(np.count_nonzero(d)/len(d)))*100"
      ]
    }
  ],
  "metadata": {
    "colab": {
      "collapsed_sections": [],
      "name": "k_means.ipynb",
      "provenance": [],
      "authorship_tag": "ABX9TyNHmwrkxvVvm88BfDhgWHN4",
      "include_colab_link": true
    },
    "kernelspec": {
      "display_name": "Python 3",
      "name": "python3"
    },
    "language_info": {
      "name": "python"
    }
  },
  "nbformat": 4,
  "nbformat_minor": 0
}