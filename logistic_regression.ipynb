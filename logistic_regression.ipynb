{
  "cells": [
    {
      "cell_type": "markdown",
      "metadata": {
        "id": "view-in-github",
        "colab_type": "text"
      },
      "source": [
        "<a href=\"https://colab.research.google.com/github/bhargabdhungel/woc_machine_learning/blob/main/logistic_regression.ipynb\" target=\"_parent\"><img src=\"https://colab.research.google.com/assets/colab-badge.svg\" alt=\"Open In Colab\"/></a>"
      ]
    },
    {
      "cell_type": "code",
      "execution_count": 30,
      "metadata": {
        "colab": {
          "base_uri": "https://localhost:8080/"
        },
        "id": "DXIT_mmUI9qm",
        "outputId": "c9131b95-0d34-4edf-e210-8e364e2c3a70"
      },
      "outputs": [
        {
          "output_type": "stream",
          "name": "stdout",
          "text": [
            "Drive already mounted at /content/drive; to attempt to forcibly remount, call drive.mount(\"/content/drive\", force_remount=True).\n"
          ]
        }
      ],
      "source": [
        "import pandas as pd\n",
        "import numpy as np\n",
        "import matplotlib.pyplot as plt\n",
        "from google.colab import drive\n",
        "drive.mount('/content/drive')"
      ]
    },
    {
      "cell_type": "code",
      "execution_count": 31,
      "metadata": {
        "id": "1GMA7DIaJKt_"
      },
      "outputs": [],
      "source": [
        "# importing_data from drive\n",
        "raw_training_data = pd.read_csv('/content/drive/MyDrive/woc/logistic_reg_data/emnist-letters-train.csv')\n",
        "raw_testing_data = pd.read_csv('/content/drive/MyDrive/woc/logistic_reg_data/emnist-letters-test.csv')\n",
        "training_data=raw_training_data.to_numpy()\n",
        "testing_data=raw_testing_data.to_numpy()"
      ]
    },
    {
      "cell_type": "code",
      "source": [
        "m=30000\n",
        "alpha=2\n",
        "iter=400"
      ],
      "metadata": {
        "id": "BenIwSIwkDhW"
      },
      "execution_count": 32,
      "outputs": []
    },
    {
      "cell_type": "code",
      "execution_count": 33,
      "metadata": {
        "id": "9GIrtnSnJYd9"
      },
      "outputs": [],
      "source": [
        "# training data\n",
        "x=training_data[:m,1:]\n",
        "mean=np.mean(x, axis=0)\n",
        "maxs=np.amax(x,axis=0)\n",
        "mins=np.amin(x,axis=0)\n",
        "ranges=maxs-mins\n",
        "x=(x-mean)/(ranges+1)\n",
        "ones=np.ones((m,1))\n",
        "x_train=np.hstack((ones,x))\n",
        "y=training_data[:m,0]"
      ]
    },
    {
      "cell_type": "code",
      "execution_count": 34,
      "metadata": {
        "id": "13ohWHGMJmQC",
        "colab": {
          "base_uri": "https://localhost:8080/",
          "height": 319
        },
        "outputId": "ca1402fd-075a-4945-8878-18954d0d10fc"
      },
      "outputs": [
        {
          "output_type": "stream",
          "name": "stdout",
          "text": [
            "Value in dataset: 21.0\n",
            "Actual Alphabet: U\n"
          ]
        },
        {
          "output_type": "execute_result",
          "data": {
            "text/plain": [
              "<matplotlib.image.AxesImage at 0x7faae39c5450>"
            ]
          },
          "metadata": {},
          "execution_count": 34
        },
        {
          "output_type": "display_data",
          "data": {
            "text/plain": [
              "<Figure size 432x288 with 1 Axes>"
            ],
            "image/png": "[encoded data removed]"
          },
          "metadata": {
            "needs_background": "light"
          }
        }
      ],
      "source": [
        "# data visualization\n",
        "t=1234\n",
        "alphabets=['A','B','C','D','E','F','G','H','I','J','K','L','M','N','O','P','Q','R','S','T','U','V','W','X','Y','Z']\n",
        "print('Value in dataset:',y[t])\n",
        "print('Actual Alphabet:',alphabets[int(y[t])-1])\n",
        "plt.imshow((x[t,:].reshape((28,28))).T,cmap='gray')"
      ]
    },
    {
      "cell_type": "code",
      "execution_count": 35,
      "metadata": {
        "id": "YaPcRD1MKQkv"
      },
      "outputs": [],
      "source": [
        "# storing index of every letter\n",
        "dic={}\n",
        "for item in range(1,27):\n",
        "  indexes = [i for i, j in enumerate(y) if j == item]\n",
        "  dic[item]=indexes"
      ]
    },
    {
      "cell_type": "code",
      "execution_count": 36,
      "metadata": {
        "id": "5i_YddtLlThd"
      },
      "outputs": [],
      "source": [
        "def h(x_train,theta):\n",
        "  g=x_train@theta\n",
        "  h=1/(1+(np.exp(-g)))\n",
        "  return h"
      ]
    },
    {
      "cell_type": "code",
      "execution_count": 37,
      "metadata": {
        "id": "LOURPH2MlZ_A"
      },
      "outputs": [],
      "source": [
        "def cost_function(x_train,y,theta,m):\n",
        "  hypo=h(x_train,theta)\n",
        "  f=np.sum((y*np.log(hypo))+((1-y)*np.log(1-hypo)))\n",
        "  return -f/m"
      ]
    },
    {
      "cell_type": "code",
      "execution_count": 38,
      "metadata": {
        "id": "ZHscKYL224AK"
      },
      "outputs": [],
      "source": [
        "# gradient descent\n",
        "theta_all=np.zeros((785,1))\n",
        "for alp in range(1,27):\n",
        "  theta=np.zeros((785,1))\n",
        "  y_train=np.zeros((m,1))\n",
        "  for i in dic[alp]:\n",
        "    y_train[i]=1\n",
        "  for it in range(iter):\n",
        "    diff=h(x_train,theta)-y_train\n",
        "    theta=theta-  (alpha/m) * (x_train.transpose() @ diff)\n",
        "  theta_all=np.hstack((theta_all,theta))\n",
        "theta_all=theta_all[:,1:]"
      ]
    },
    {
      "cell_type": "code",
      "execution_count": 39,
      "metadata": {
        "id": "roM85AZ4b3q5"
      },
      "outputs": [],
      "source": [
        "# testing_data\n",
        "x=training_data[:20000,1:]\n",
        "mean=np.mean(x, axis=0)\n",
        "maxs=np.amax(x,axis=0)\n",
        "mins=np.amin(x,axis=0)\n",
        "ranges=maxs-mins\n",
        "x=(x-mean)/(ranges+1)\n",
        "ones=np.ones((20000,1))\n",
        "x_test=np.hstack((ones,x))\n",
        "y=training_data[:20000,0]"
      ]
    },
    {
      "cell_type": "code",
      "execution_count": 40,
      "metadata": {
        "id": "jRdQ3xy5cwFv",
        "colab": {
          "base_uri": "https://localhost:8080/"
        },
        "outputId": "354c3bad-49a6-4bf3-f851-cf98758b735d"
      },
      "outputs": [
        {
          "output_type": "execute_result",
          "data": {
            "text/plain": [
              "71.725"
            ]
          },
          "metadata": {},
          "execution_count": 40
        }
      ],
      "source": [
        "# prediction\n",
        "prediction=h(x_test,theta_all)\n",
        "prediction=np.argmax(prediction, axis=1)+1\n",
        "d=prediction-y\n",
        "(1-np.count_nonzero(d)/len(d))*100"
      ]
    }
  ],
  "metadata": {
    "colab": {
      "collapsed_sections": [],
      "name": "logistic_regression.ipynb",
      "provenance": [],
      "include_colab_link": true
    },
    "kernelspec": {
      "display_name": "Python 3",
      "name": "python3"
    },
    "language_info": {
      "name": "python"
    }
  },
  "nbformat": 4,
  "nbformat_minor": 0
}