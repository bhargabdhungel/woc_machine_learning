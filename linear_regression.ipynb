{
  "nbformat": 4,
  "nbformat_minor": 0,
  "metadata": {
    "colab": {
      "name": "linear_regression.ipynb",
      "provenance": [],
      "collapsed_sections": [],
      "mount_file_id": "1HRAPuNVLdm1x55qxQJ_M2FfOMBQzL18V",
      "authorship_tag": "ABX9TyPRDtSJpi6Nf4zGMPJevT5o",
      "include_colab_link": true
    },
    "kernelspec": {
      "name": "python3",
      "display_name": "Python 3"
    },
    "language_info": {
      "name": "python"
    }
  },
  "cells": [
    {
      "cell_type": "markdown",
      "metadata": {
        "id": "view-in-github",
        "colab_type": "text"
      },
      "source": [
        "<a href=\"https://colab.research.google.com/github/bhargabdhungel/woc_machine_learning/blob/main/linear_regression.ipynb\" target=\"_parent\"><img src=\"https://colab.research.google.com/assets/colab-badge.svg\" alt=\"Open In Colab\"/></a>"
      ]
    },
    {
      "cell_type": "code",
      "execution_count": 27,
      "metadata": {
        "id": "j1K8rLbGToqs",
        "colab": {
          "base_uri": "https://localhost:8080/"
        },
        "outputId": "36516681-bdbd-482d-a82c-ea8c0dab3af5"
      },
      "outputs": [
        {
          "output_type": "stream",
          "name": "stdout",
          "text": [
            "Drive already mounted at /content/drive; to attempt to forcibly remount, call drive.mount(\"/content/drive\", force_remount=True).\n"
          ]
        }
      ],
      "source": [
        "import numpy as np\n",
        "import pandas as pd\n",
        "import matplotlib.pyplot as plt\n",
        "from google.colab import drive\n",
        "drive.mount('/content/drive')"
      ]
    },
    {
      "cell_type": "code",
      "source": [
        "# importing data from drive\n",
        "raw_training_data = pd.read_csv('/content/drive/MyDrive/woc/linear_regression_data/Linear_train.csv')\n",
        "raw_testing_data = pd.read_csv('/content/drive/MyDrive/woc/linear_regression_data/Linear_test.csv')\n",
        "training_data=raw_training_data.to_numpy()\n",
        "testing_data=raw_testing_data.to_numpy()"
      ],
      "metadata": {
        "id": "yLko8wORYrK3"
      },
      "execution_count": 28,
      "outputs": []
    },
    {
      "cell_type": "code",
      "source": [
        "def hypothesis(x_train,theta):\n",
        "  return x_train@theta"
      ],
      "metadata": {
        "id": "t5EDFKyvUnnt"
      },
      "execution_count": 29,
      "outputs": []
    },
    {
      "cell_type": "code",
      "source": [
        "def cost_function(x_train,y,theta,m):\n",
        "  hypo=hypothesis(x_train,theta)\n",
        "  difference = hypo-y\n",
        "  cost = ((hypo-y).transpose() @ (hypo-y)) / (2*m)\n",
        "  return cost[0][0]"
      ],
      "metadata": {
        "id": "-4gKp96OnnDd"
      },
      "execution_count": 30,
      "outputs": []
    },
    {
      "cell_type": "code",
      "source": [
        "theta=np.ones((21,1))\n",
        "m=len(training_data)\n",
        "alpha=1\n",
        "iter=200"
      ],
      "metadata": {
        "id": "ZUrgyLtzHQLL"
      },
      "execution_count": 31,
      "outputs": []
    },
    {
      "cell_type": "code",
      "source": [
        "# training data\n",
        "x=training_data[:,1:21]\n",
        "mean=np.mean(x, axis=0)\n",
        "maxs=np.amax(x,axis=0)\n",
        "mins=np.amin(x,axis=0)\n",
        "ranges=maxs-mins\n",
        "ones=np.ones((m,1))\n",
        "x=(x-mean)/ranges\n",
        "x_train=np.hstack((ones,x))\n",
        "y_train=training_data[:,21]\n",
        "y_train=y_train.reshape((m,1))"
      ],
      "metadata": {
        "id": "xE-UegGLoCtY"
      },
      "execution_count": 32,
      "outputs": []
    },
    {
      "cell_type": "code",
      "source": [
        "# gradient descent\n",
        "y_p=[]\n",
        "for it in range(iter):\n",
        "  y_p.append(cost_function(x_train,y_train,theta,m))\n",
        "  diff=hypothesis(x_train,theta)-y_train\n",
        "  theta=theta-  (alpha/m) * (x_train.transpose() @ diff)\n",
        "plt.plot(y_p)"
      ],
      "metadata": {
        "id": "fuZZArGNokw2",
        "colab": {
          "base_uri": "https://localhost:8080/",
          "height": 294
        },
        "outputId": "93d09aa1-f724-4129-c4f7-6c445c6ad06e"
      },
      "execution_count": 33,
      "outputs": [
        {
          "output_type": "execute_result",
          "data": {
            "text/plain": [
              "[<matplotlib.lines.Line2D at 0x7fd51f039fd0>]"
            ]
          },
          "metadata": {},
          "execution_count": 33
        },
        {
          "output_type": "display_data",
          "data": {
            "text/plain": [
              "<Figure size 432x288 with 1 Axes>"
            ],
            "image/png": "[encoded data removed]"
          },
          "metadata": {
            "needs_background": "light"
          }
        }
      ]
    },
    {
      "cell_type": "code",
      "source": [
        "# testing data\n",
        "x=testing_data[:,1:21]\n",
        "ones=np.ones((10000,1))\n",
        "x=(x-mean)/ranges\n",
        "x_test=np.hstack((ones,x))\n",
        "y_test=testing_data[:,21]\n",
        "y_test=y_test.reshape((10000,1))"
      ],
      "metadata": {
        "id": "J0MqcCD62FYa"
      },
      "execution_count": 34,
      "outputs": []
    },
    {
      "cell_type": "code",
      "source": [
        "# prediction\n",
        "prediction=hypothesis(x_test,theta)\n",
        "rmse = (((y_test-prediction).T@(y_test-prediction))/10000)**0.5\n",
        "rmse[0][0]"
      ],
      "metadata": {
        "colab": {
          "base_uri": "https://localhost:8080/"
        },
        "id": "PAMQTc7191bT",
        "outputId": "fb875f03-f1cf-462e-b033-acf20c3ebf22"
      },
      "execution_count": 35,
      "outputs": [
        {
          "output_type": "execute_result",
          "data": {
            "text/plain": [
              "1.8289540668716695"
            ]
          },
          "metadata": {},
          "execution_count": 35
        }
      ]
    }
  ]
}