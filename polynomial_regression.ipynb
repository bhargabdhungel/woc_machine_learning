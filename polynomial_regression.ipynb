{
  "nbformat": 4,
  "nbformat_minor": 0,
  "metadata": {
    "colab": {
      "name": "polynomial_regression.ipynb",
      "provenance": [],
      "collapsed_sections": [],
      "authorship_tag": "ABX9TyOtolfJ7G+Fjwp/AlTkSUL+",
      "include_colab_link": true
    },
    "kernelspec": {
      "name": "python3",
      "display_name": "Python 3"
    },
    "language_info": {
      "name": "python"
    }
  },
  "cells": [
    {
      "cell_type": "markdown",
      "metadata": {
        "id": "view-in-github",
        "colab_type": "text"
      },
      "source": [
        "<a href=\"https://colab.research.google.com/github/bhargabdhungel/woc_machine_learning/blob/main/polynomial_regression.ipynb\" target=\"_parent\"><img src=\"https://colab.research.google.com/assets/colab-badge.svg\" alt=\"Open In Colab\"/></a>"
      ]
    },
    {
      "cell_type": "code",
      "execution_count": 54,
      "metadata": {
        "id": "ukdRrp43L2dG",
        "colab": {
          "base_uri": "https://localhost:8080/"
        },
        "outputId": "a5ab1b49-0848-4fb9-d7de-e28ff7ba3743"
      },
      "outputs": [
        {
          "output_type": "stream",
          "name": "stdout",
          "text": [
            "Drive already mounted at /content/drive; to attempt to forcibly remount, call drive.mount(\"/content/drive\", force_remount=True).\n"
          ]
        }
      ],
      "source": [
        "import numpy as np\n",
        "import pandas as pd\n",
        "import matplotlib.pyplot as plt\n",
        "from google.colab import drive\n",
        "drive.mount('/content/drive')"
      ]
    },
    {
      "cell_type": "code",
      "source": [
        "# importing data from drive\n",
        "raw_training_data = pd.read_csv('/content/drive/MyDrive/woc/polynomial_regression_data/Polynomial_train.csv')\n",
        "raw_testing_data = pd.read_csv('/content/drive/MyDrive/woc/polynomial_regression_data/Polynomial_test.csv')\n",
        "training_data=raw_training_data.to_numpy()\n",
        "testing_data=raw_testing_data.to_numpy()"
      ],
      "metadata": {
        "id": "oO50L5H6L910"
      },
      "execution_count": 55,
      "outputs": []
    },
    {
      "cell_type": "code",
      "source": [
        "theta=10*np.ones((10,1))\n",
        "m=len(training_data)\n",
        "alpha=0.000467\n",
        "iter=10000"
      ],
      "metadata": {
        "id": "1u0i2JsSKu_b"
      },
      "execution_count": 56,
      "outputs": []
    },
    {
      "cell_type": "code",
      "source": [
        "# training data\n",
        "x=training_data[:,1:4]\n",
        "x2=x*x\n",
        "xy=x[:,0]*x[:,1]\n",
        "yz=x[:,1]*x[:,2]\n",
        "zx=x[:,2]*x[:,0]\n",
        "xy=xy.reshape((m,1))\n",
        "yz=yz.reshape((m,1))\n",
        "zx=zx.reshape((m,1))\n",
        "ones=ones=np.ones((m,1))\n",
        "x=np.hstack((x,x2,xy,yz,zx))\n",
        "x_train=np.hstack((ones,x))\n",
        "y_train=training_data[:,4]\n",
        "y_train=y_train.reshape((50000,1))"
      ],
      "metadata": {
        "id": "VXp5wyEnNDSQ"
      },
      "execution_count": 57,
      "outputs": []
    },
    {
      "cell_type": "code",
      "source": [
        "def hypothesis(x_train,theta):\n",
        "  return x_train@theta"
      ],
      "metadata": {
        "id": "jSkQG4ucchGk"
      },
      "execution_count": 58,
      "outputs": []
    },
    {
      "cell_type": "code",
      "source": [
        "def cost_function(x_train,y,theta,m):\n",
        "  hypo=hypothesis(x_train,theta)\n",
        "  difference = hypo-y\n",
        "  cost = ((hypo-y).T @ (hypo-y)) / (2*m)\n",
        "  return cost[0][0]"
      ],
      "metadata": {
        "id": "9m34_bAQjWFv"
      },
      "execution_count": 59,
      "outputs": []
    },
    {
      "cell_type": "code",
      "source": [
        "# gradient descent\n",
        "y_p=[]\n",
        "for it in range(iter):\n",
        "  y_p.append(cost_function(x_train,y_train,theta,m))\n",
        "  diff=hypothesis(x_train,theta)-y_train\n",
        "  theta=theta-  (alpha/m) * (x_train.transpose() @ diff)\n",
        "plt.plot(y_p)"
      ],
      "metadata": {
        "id": "6RbesKADkAj8",
        "colab": {
          "base_uri": "https://localhost:8080/",
          "height": 294
        },
        "outputId": "ee9e7aa4-0681-476d-d13a-eba32b7cb31b"
      },
      "execution_count": 60,
      "outputs": [
        {
          "output_type": "execute_result",
          "data": {
            "text/plain": [
              "[<matplotlib.lines.Line2D at 0x7fc5f001e610>]"
            ]
          },
          "metadata": {},
          "execution_count": 60
        },
        {
          "output_type": "display_data",
          "data": {
            "text/plain": [
              "<Figure size 432x288 with 1 Axes>"
            ],
            "image/png": "[encoded data removed]"
          },
          "metadata": {
            "needs_background": "light"
          }
        }
      ]
    },
    {
      "cell_type": "code",
      "source": [
        "# testing data\n",
        "x=testing_data[:,1:4]\n",
        "x2=x*x\n",
        "xy=x[:,0]*x[:,1]\n",
        "yz=x[:,1]*x[:,2]\n",
        "zx=x[:,2]*x[:,0]\n",
        "xy=xy.reshape((10000,1))\n",
        "yz=yz.reshape((10000,1))\n",
        "zx=zx.reshape((10000,1))\n",
        "x=np.hstack((x,x2,xy,yz,zx))\n",
        "ones=ones=np.ones((10000,1))\n",
        "x_test=np.hstack((ones,x))\n",
        "y_test=testing_data[:,4]\n",
        "y_test=y_test.reshape((10000,1))"
      ],
      "metadata": {
        "id": "0WedMQbGko_k"
      },
      "execution_count": 61,
      "outputs": []
    },
    {
      "cell_type": "code",
      "source": [
        "# prediction\n",
        "prediction=hypothesis(x_test,theta)\n",
        "rmse = (((y_test-prediction).T@(y_test-prediction))/10000)**0.5\n",
        "rmse[0][0]"
      ],
      "metadata": {
        "id": "TGcv3X9bN0ka",
        "colab": {
          "base_uri": "https://localhost:8080/"
        },
        "outputId": "259f0696-8480-4317-aaf7-e52b05a53bae"
      },
      "execution_count": 62,
      "outputs": [
        {
          "output_type": "execute_result",
          "data": {
            "text/plain": [
              "1.9628064408884622"
            ]
          },
          "metadata": {},
          "execution_count": 62
        }
      ]
    }
  ]
}