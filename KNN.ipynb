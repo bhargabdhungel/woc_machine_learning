{
  "nbformat": 4,
  "nbformat_minor": 0,
  "metadata": {
    "colab": {
      "name": "KNN.ipynb",
      "provenance": [],
      "collapsed_sections": [],
      "authorship_tag": "ABX9TyON2nXLzpiV9qASSSVyauMy",
      "include_colab_link": true
    },
    "kernelspec": {
      "name": "python3",
      "display_name": "Python 3"
    },
    "language_info": {
      "name": "python"
    }
  },
  "cells": [
    {
      "cell_type": "markdown",
      "metadata": {
        "id": "view-in-github",
        "colab_type": "text"
      },
      "source": [
        "<a href=\"https://colab.research.google.com/github/bhargabdhungel/woc_machine_learning/blob/main/KNN.ipynb\" target=\"_parent\"><img src=\"https://colab.research.google.com/assets/colab-badge.svg\" alt=\"Open In Colab\"/></a>"
      ]
    },
    {
      "cell_type": "code",
      "execution_count": 20,
      "metadata": {
        "colab": {
          "base_uri": "https://localhost:8080/"
        },
        "id": "IJp46vR91IP_",
        "outputId": "4710c68f-d9cd-4b6d-f66c-3229e44517da"
      },
      "outputs": [
        {
          "output_type": "stream",
          "name": "stdout",
          "text": [
            "Drive already mounted at /content/drive; to attempt to forcibly remount, call drive.mount(\"/content/drive\", force_remount=True).\n"
          ]
        }
      ],
      "source": [
        "import pandas as pd\n",
        "import numpy as np\n",
        "import matplotlib.pyplot as plt\n",
        "from google.colab import drive\n",
        "drive.mount('/content/drive')"
      ]
    },
    {
      "cell_type": "code",
      "source": [
        "# importing data from drive\n",
        "raw_training_data = pd.read_csv('/content/drive/MyDrive/woc/logistic_reg_data/emnist-letters-train.csv')\n",
        "raw_testing_data = pd.read_csv('/content/drive/MyDrive/woc/logistic_reg_data/emnist-letters-test.csv')\n",
        "training_data=raw_training_data.to_numpy()\n",
        "testing_data=raw_testing_data.to_numpy()"
      ],
      "metadata": {
        "id": "H78UAHNj1Mus"
      },
      "execution_count": 21,
      "outputs": []
    },
    {
      "cell_type": "code",
      "source": [
        "m=len(training_data[:-1])\n",
        "n=500\n",
        "k=10"
      ],
      "metadata": {
        "id": "e-qxOqKz3vFh"
      },
      "execution_count": 22,
      "outputs": []
    },
    {
      "cell_type": "code",
      "source": [
        "def distance(x,t):\n",
        "  y=[]\n",
        "  for j in t:\n",
        "    d=x-j\n",
        "    distance= np.sqrt(np.sum(d**2,axis=1))\n",
        "    y.append(distance)\n",
        "  return np.array(y)"
      ],
      "metadata": {
        "id": "1EmsUktH1Os9"
      },
      "execution_count": 23,
      "outputs": []
    },
    {
      "cell_type": "code",
      "source": [
        "# training_data\n",
        "x=training_data[:m,1:]\n",
        "y=training_data[:m,0]"
      ],
      "metadata": {
        "id": "yuQsP3Iz2zl_"
      },
      "execution_count": 24,
      "outputs": []
    },
    {
      "cell_type": "code",
      "source": [
        "# testing_data\n",
        "test_random = np.random.randint(0,len(testing_data),n)\n",
        "test_x=testing_data[test_random,1:]\n",
        "test_y=testing_data[test_random,0]"
      ],
      "metadata": {
        "id": "w1C6if5m2LIk"
      },
      "execution_count": 25,
      "outputs": []
    },
    {
      "cell_type": "code",
      "source": [
        "distances=distance(x,test_x)\n",
        "indices = np.argsort(distances,axis=1)\n",
        "val=y[indices[:,:k]]\n",
        "val=val.astype(int)"
      ],
      "metadata": {
        "id": "uYztib5gS7YW"
      },
      "execution_count": 26,
      "outputs": []
    },
    {
      "cell_type": "code",
      "source": [
        "prediction=[]\n",
        "for i in range(len(val)):\n",
        "  prediction.append(np.bincount(val[i]).argmax())\n",
        "d=prediction-test_y\n",
        "(1-np.count_nonzero(d)/len(d))*100"
      ],
      "metadata": {
        "id": "jT9YjldHqDMv",
        "colab": {
          "base_uri": "https://localhost:8080/"
        },
        "outputId": "01bb1cc8-8164-4bbf-b7e5-5528343c5bd1"
      },
      "execution_count": 27,
      "outputs": [
        {
          "output_type": "execute_result",
          "data": {
            "text/plain": [
              "83.2"
            ]
          },
          "metadata": {},
          "execution_count": 27
        }
      ]
    }
  ]
}